{
 "cells": [
  {
   "cell_type": "markdown",
   "metadata": {},
   "source": [
    "# Input parameters"
   ]
  },
  {
   "cell_type": "code",
   "execution_count": 12,
   "metadata": {},
   "outputs": [],
   "source": [
    "# URL of the target website\n",
    "url = 'http://comunitatvalenciana.com/viaje/alojamiento/viviendas-turisticas'\n",
    "\n",
    "# Number of pages of the target website\n",
    "max_pages = 3810\n",
    "\n",
    "# Maximum number of attempts to download the page\n",
    "max_attempts = 5\n",
    "\n",
    "# Timeout for loading page. Increase if internet connection is slow.\n",
    "timeout = 30\n",
    "\n",
    "# Time to wait between pages to avoid being blocked\n",
    "sleep_time = 3\n",
    "\n",
    "# Name of the output file\n",
    "output_file = 'viviendas_turisticas.csv'"
   ]
  },
  {
   "cell_type": "markdown",
   "metadata": {},
   "source": [
    "# Modules"
   ]
  },
  {
   "cell_type": "code",
   "execution_count": 2,
   "metadata": {},
   "outputs": [],
   "source": [
    "import requests\n",
    "import pandas as pd\n",
    "import time\n",
    "from bs4 import BeautifulSoup\n",
    "from tqdm import tnrange, tqdm_notebook"
   ]
  },
  {
   "cell_type": "markdown",
   "metadata": {},
   "source": [
    "# Download data"
   ]
  },
  {
   "cell_type": "code",
   "execution_count": 3,
   "metadata": {},
   "outputs": [
    {
     "data": {
      "application/vnd.jupyter.widget-view+json": {
       "model_id": "97663cb8ee7445f2ac9ddb697747976a",
       "version_major": 2,
       "version_minor": 0
      },
      "text/plain": [
       "HBox(children=(IntProgress(value=0, max=3810), HTML(value='')))"
      ]
     },
     "metadata": {},
     "output_type": "display_data"
    },
    {
     "name": "stdout",
     "output_type": "stream",
     "text": [
      "Page 571, attempt 1 failed. Retrying...\n",
      "Page 581, attempt 1 failed. Retrying...\n",
      "\n"
     ]
    }
   ],
   "source": [
    "# Initialize variables\n",
    "signatures = list()\n",
    "links = list()\n",
    "cities = list()\n",
    "provinces = list()\n",
    "addresses = list()\n",
    "phones = list()\n",
    "\n",
    "# Iterate through pages\n",
    "for page_number in tnrange(max_pages): # Use tnrange to display progress bar\n",
    "    attempts = 0\n",
    "    while True: \n",
    "        try:\n",
    "            # Download page\n",
    "            page = requests.get(url + '?page=' + str(page_number), timeout=timeout)\n",
    "            # Extract HTML\n",
    "            html = BeautifulSoup(page.content, 'html.parser')\n",
    "            # Extract apartments\n",
    "            apartments = html.tbody.find_all('tr')\n",
    "            # Extract apartment's data\n",
    "            for apartment in apartments:\n",
    "                # Signature\n",
    "                signature = apartment.find('td', 'views-field views-field-field-shared-ws-signature-value').text.strip()\n",
    "                signatures.append(signature)\n",
    "                # Link\n",
    "                link = apartment.find('td', 'views-field views-field-field-shared-ws-signature-value').a.get('href').strip()\n",
    "                links.append(link)\n",
    "                # City\n",
    "                city = apartment.find('td', 'views-field views-field-field-shared-rel-municipio-nid').text.strip()\n",
    "                cities.append(city)\n",
    "                # Province\n",
    "                province = apartment.find('td', 'views-field views-field-field-shared-provincia-value').text.strip()\n",
    "                provinces.append(province)\n",
    "                # Address\n",
    "                address = apartment.find('td', 'views-field views-field-field-shared-address-value').text.strip()\n",
    "                addresses.append(address)\n",
    "                # Phone\n",
    "                phone = apartment.find('td', 'views-field views-field-field-shared-phone-value').text.strip()\n",
    "                phones.append(phone)\n",
    "            # Continue to next page\n",
    "            time.sleep(sleep_time)\n",
    "            break\n",
    "        except:\n",
    "            if attempts < max_attempts:\n",
    "                attempts += 1\n",
    "                print(f'Page {page_number}, attempt {attempts} failed. Retrying...')\n",
    "                time.sleep(sleep_time)                \n",
    "            else:\n",
    "                raise Exception('Unable to download the page. Maximum number of retries reached.')"
   ]
  },
  {
   "cell_type": "markdown",
   "metadata": {},
   "source": [
    "# Process data"
   ]
  },
  {
   "cell_type": "code",
   "execution_count": 4,
   "metadata": {},
   "outputs": [],
   "source": [
    "# Convert raw data to a dataframe\n",
    "raw_data = list(zip(signatures, links, cities, provinces, addresses, phones))\n",
    "data = pd.DataFrame(raw_data, columns=['firma', 'enlace', 'municipio', 'provincia', 'direccion', 'telefono']) "
   ]
  },
  {
   "cell_type": "markdown",
   "metadata": {},
   "source": [
    "# Export data"
   ]
  },
  {
   "cell_type": "code",
   "execution_count": 13,
   "metadata": {},
   "outputs": [],
   "source": [
    "# Export data to CSV\n",
    "data.to_csv(output_file, index=False, encoding='utf-8-sig')"
   ]
  }
 ],
 "metadata": {
  "kernelspec": {
   "display_name": "Python 3",
   "language": "python",
   "name": "python3"
  },
  "language_info": {
   "codemirror_mode": {
    "name": "ipython",
    "version": 3
   },
   "file_extension": ".py",
   "mimetype": "text/x-python",
   "name": "python",
   "nbconvert_exporter": "python",
   "pygments_lexer": "ipython3",
   "version": "3.7.3"
  }
 },
 "nbformat": 4,
 "nbformat_minor": 2
}
