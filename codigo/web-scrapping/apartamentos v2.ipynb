{
 "cells": [
  {
   "cell_type": "markdown",
   "metadata": {},
   "source": [
    "# Input parameters"
   ]
  },
  {
   "cell_type": "code",
   "execution_count": 21,
   "metadata": {},
   "outputs": [],
   "source": [
    "# URL of the target website\n",
    "url = 'http://comunitatvalenciana.com/viaje/alojamiento/apartamentos'\n",
    "\n",
    "# Number of pages of the target website\n",
    "max_pages = 4\n",
    "\n",
    "# Maximum number of attempts to download the page\n",
    "max_attempts = 5\n",
    "\n",
    "# Timeout for loading page. Increase if internet connection is slow.\n",
    "timeout = 30\n",
    "\n",
    "# Time to wait between pages to avoid being blocked\n",
    "sleep_time = 3\n",
    "\n",
    "# Name of the output file\n",
    "output_file = 'apartamentos.csv'"
   ]
  },
  {
   "cell_type": "markdown",
   "metadata": {},
   "source": [
    "# Modules"
   ]
  },
  {
   "cell_type": "code",
   "execution_count": 14,
   "metadata": {},
   "outputs": [],
   "source": [
    "import requests\n",
    "import pandas as pd\n",
    "import time\n",
    "from bs4 import BeautifulSoup\n",
    "from tqdm import tnrange, tqdm_notebook"
   ]
  },
  {
   "cell_type": "markdown",
   "metadata": {},
   "source": [
    "# Download data"
   ]
  },
  {
   "cell_type": "code",
   "execution_count": 65,
   "metadata": {},
   "outputs": [
    {
     "data": {
      "application/vnd.jupyter.widget-view+json": {
       "model_id": "9b9ba8ab8a3a4941b86a9a61856c5301",
       "version_major": 2,
       "version_minor": 0
      },
      "text/plain": [
       "HBox(children=(IntProgress(value=0, max=4), HTML(value='')))"
      ]
     },
     "metadata": {},
     "output_type": "display_data"
    }
   ],
   "source": [
    "# Initialize variables\n",
    "names = list()\n",
    "links = list()\n",
    "cities = list()\n",
    "signatures = list()\n",
    "addresses = list()\n",
    "provinces = list()\n",
    "phones = list()\n",
    "emails = list()\n",
    "webs = list()\n",
    "postal_codes = list()\n",
    "locations = list()\n",
    "categories = list()\n",
    "aparthotels = list()\n",
    "eeat_signs = list()\n",
    "eeat_names = list()\n",
    "capacities = list()\n",
    "nums_apartments = list()\n",
    "\n",
    "# Iterate through pages\n",
    "for page_number in tnrange(max_pages): # Use tnrange to display progress bar\n",
    "    attempts = 0\n",
    "    while True: \n",
    "            # Download page\n",
    "            page = requests.get(url + '?page=' + str(page_number), timeout=timeout)\n",
    "            # Extract HTML\n",
    "            html = BeautifulSoup(page.content, 'html.parser')\n",
    "            # Extract apartments\n",
    "            apartments = html.tbody.find_all('tr')\n",
    "            # Extract apartment's data\n",
    "            for apartment in apartments:\n",
    "                # Get link of apartment's page\n",
    "                link = apartment.find('td', 'views-field views-field-title active').a.get('href').strip()\n",
    "                links.append(link)\n",
    "                # Extract apartment details from apartment's page\n",
    "                page = requests.get(link, timeout=timeout)\n",
    "                html = BeautifulSoup(page.content, 'html.parser') \n",
    "                # Name\n",
    "                try:\n",
    "                    name = html.find('title').text.strip()\n",
    "                    names.append(name)\n",
    "                except:\n",
    "                    names.append(None)\n",
    "                # Address  \n",
    "                try:\n",
    "                    street = html.find('div', 'field field-type-text field-field-shared-address').text.split(':')[1].strip()\n",
    "                    street_type = html.find('div', 'field field-type-text field-field-shared-via').text.split(':')[1].strip()\n",
    "                    street_number = html.find('div', 'field field-type-text field-field-shared-address-n').text.split(':')[1].strip()\n",
    "                    address = street_type + ' ' + street + ', ' + street_number\n",
    "                    addresses.append(address)   \n",
    "                except:\n",
    "                    addresses.append(None)\n",
    "                # City    \n",
    "                try:\n",
    "                    city = html.find('div', 'field field-type-nodereference field-field-shared-rel-municipio').text.split(':')[1].strip()\n",
    "                    cities.append(city)   \n",
    "                except:\n",
    "                    cities.append(None)\n",
    "                # Province  \n",
    "                try:\n",
    "                    province = html.find('div', 'field field-type-text field-field-shared-provincia').text.split(':')[1].strip()\n",
    "                    provinces.append(province)   \n",
    "                except:\n",
    "                    provinces.append(None)\n",
    "                # Postal code \n",
    "                try:\n",
    "                    postal_code = html.find('div', 'field field-type-text field-field-shared-code-postal').text.split(':')[1].strip()\n",
    "                    postal_codes.append(postal_code)   \n",
    "                except:\n",
    "                    postal_codes.append(None)\n",
    "                # Phone       \n",
    "                try:\n",
    "                    phone = html.find('div', 'field field-type-text field-field-shared-phone').text.split(':')[1].strip()[:9]\n",
    "                    phones.append(phone)   \n",
    "                except:\n",
    "                    phones.append(None)\n",
    "                # Email       \n",
    "                try:\n",
    "                    email = html.find('div', 'field field-type-email field-field-shared-email').text.split(':')[1].strip()\n",
    "                    emails.append(email)   \n",
    "                except:\n",
    "                    emails.append(None) \n",
    "                # Web       \n",
    "                try:\n",
    "                    web = html.find('div', 'field field-type-link field-field-shared-web').text.split('Web:')[1].strip()\n",
    "                    webs.append(web)   \n",
    "                except:\n",
    "                    webs.append(None) \n",
    "                # Category    \n",
    "                try:\n",
    "                    category = html.find('div', 'field field-type-text field-field-alojamiento-category').text.split(':')[1].strip()\n",
    "                    categories.append(category)   \n",
    "                except:\n",
    "                    categories.append(None)\n",
    "                # Location       \n",
    "                try:\n",
    "                    location = html.find('div', 'field field-type-text field-field-alojamiento-situation').text.split(':')[1].strip()\n",
    "                    locations.append(location)   \n",
    "                except:\n",
    "                    locations.append(None)\n",
    "                # Aparthotel \n",
    "                try:\n",
    "                    aparthotel = html.find('div', 'field field-type-text field-field-appartment-aparthotel').text.split(':')[1].strip()\n",
    "                    aparthotels.append(aparthotel)   \n",
    "                except:\n",
    "                    aparthotels.append(None)\n",
    "                # EEAT signature       \n",
    "                try:\n",
    "                    eeat_sign = html.find('div', 'field field-type-text field-field-appartment-sign-eeat').text.split(':')[1].strip()\n",
    "                    eeat_signs.append(eeat_sign)   \n",
    "                except:\n",
    "                    eeat_signs.append(None)\n",
    "                # EEAT name \n",
    "                try:\n",
    "                    eeat_name = html.find('div', 'field field-type-text field-field-appartment-name-eeat').text.split(':')[1].strip()\n",
    "                    eeat_names.append(eeat_name)   \n",
    "                except:\n",
    "                    eeat_names.append(None)\n",
    "                # Capacity \n",
    "                try:\n",
    "                    capacity = html.find('div', 'field field-type-number-integer field-field-shared-capacity').text.split(':')[1].strip()\n",
    "                    capacities.append(capacity)   \n",
    "                except:\n",
    "                    capacities.append(None)\n",
    "                # Number of apartments   \n",
    "                try:\n",
    "                    num_apartments = html.find('div', 'field field-type-text field-field-appartment-num').text.split(':')[1].strip()\n",
    "                    nums_apartments.append(num_apartments)   \n",
    "                except:\n",
    "                    nums_apartments.append(None)\n",
    "                # Signature\n",
    "                try:\n",
    "                    signature = html.find('div', 'field field-type-text field-field-shared-ws-signature').text.split(':')[1].strip()\n",
    "                    signatures.append(signature)   \n",
    "                except:\n",
    "                    signatures.append(None)\n",
    "            # Continue to next page\n",
    "            time.sleep(sleep_time)\n",
    "            break\n"
   ]
  },
  {
   "cell_type": "markdown",
   "metadata": {},
   "source": [
    "# Process data"
   ]
  },
  {
   "cell_type": "code",
   "execution_count": 66,
   "metadata": {},
   "outputs": [],
   "source": [
    "# Convert raw data to a dataframe\n",
    "raw_data = list(zip(names, links, signatures, capacities, nums_apartments, \n",
    "                    addresses, cities, provinces, postal_codes, phones, emails, webs,\n",
    "                    locations, categories, aparthotels, eeat_signs, eeat_names))\n",
    "data = pd.DataFrame(raw_data, columns=['nombre', 'enlace', 'firma', 'capacidad', 'numero apartamentos',\n",
    "                                       'direccion', 'municipio', 'provincia', 'codigo postal', 'telefono', 'email', 'web',\n",
    "                                       'situacion', 'categoria', 'aparthotel', 'firma eeat', 'nombre eeat']) "
   ]
  },
  {
   "cell_type": "markdown",
   "metadata": {},
   "source": [
    "# Export data"
   ]
  },
  {
   "cell_type": "code",
   "execution_count": 67,
   "metadata": {},
   "outputs": [],
   "source": [
    "# Export data to CSV\n",
    "data.to_csv(output_file, index=False, encoding='utf-8-sig')"
   ]
  }
 ],
 "metadata": {
  "kernelspec": {
   "display_name": "Python 3",
   "language": "python",
   "name": "python3"
  },
  "language_info": {
   "codemirror_mode": {
    "name": "ipython",
    "version": 3
   },
   "file_extension": ".py",
   "mimetype": "text/x-python",
   "name": "python",
   "nbconvert_exporter": "python",
   "pygments_lexer": "ipython3",
   "version": "3.7.3"
  }
 },
 "nbformat": 4,
 "nbformat_minor": 2
}
